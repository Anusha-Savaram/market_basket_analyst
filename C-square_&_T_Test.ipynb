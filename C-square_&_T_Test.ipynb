{
 "cells": [
  {
   "cell_type": "code",
   "execution_count": 1,
   "id": "ee1e4a5e",
   "metadata": {},
   "outputs": [],
   "source": [
    "import pandas as pd"
   ]
  },
  {
   "cell_type": "code",
   "execution_count": 2,
   "id": "3fadef74",
   "metadata": {},
   "outputs": [],
   "source": [
    "#T-test"
   ]
  },
  {
   "cell_type": "code",
   "execution_count": 3,
   "id": "3b5f5001",
   "metadata": {},
   "outputs": [],
   "source": [
    "from scipy.stats import ttest_ind"
   ]
  },
  {
   "cell_type": "code",
   "execution_count": 4,
   "id": "8f35aefa",
   "metadata": {},
   "outputs": [],
   "source": [
    "df=pd.read_excel('/Users/anusha._s/Desktop/Rutgers/Sem 3/Capstone Workbook_V3.xlsx',sheet_name='Dup_Cleaneddata')"
   ]
  },
  {
   "cell_type": "code",
   "execution_count": 5,
   "id": "0be39bc2",
   "metadata": {},
   "outputs": [
    {
     "data": {
      "text/html": [
       "<div>\n",
       "<style scoped>\n",
       "    .dataframe tbody tr th:only-of-type {\n",
       "        vertical-align: middle;\n",
       "    }\n",
       "\n",
       "    .dataframe tbody tr th {\n",
       "        vertical-align: top;\n",
       "    }\n",
       "\n",
       "    .dataframe thead th {\n",
       "        text-align: right;\n",
       "    }\n",
       "</style>\n",
       "<table border=\"1\" class=\"dataframe\">\n",
       "  <thead>\n",
       "    <tr style=\"text-align: right;\">\n",
       "      <th></th>\n",
       "      <th>month</th>\n",
       "      <th>adjustment</th>\n",
       "      <th>cancelled</th>\n",
       "      <th>order_id</th>\n",
       "      <th>order_name</th>\n",
       "      <th>purchase_option</th>\n",
       "      <th>billing_city</th>\n",
       "      <th>billing_region</th>\n",
       "      <th>billing_country</th>\n",
       "      <th>customer_email</th>\n",
       "      <th>...</th>\n",
       "      <th>gross_sales</th>\n",
       "      <th>discounts</th>\n",
       "      <th>returns</th>\n",
       "      <th>net_sales</th>\n",
       "      <th>shipping</th>\n",
       "      <th>taxes</th>\n",
       "      <th>total_sales</th>\n",
       "      <th>average_order_value</th>\n",
       "      <th>net_quantity</th>\n",
       "      <th>Customer_level_type</th>\n",
       "    </tr>\n",
       "  </thead>\n",
       "  <tbody>\n",
       "    <tr>\n",
       "      <th>0</th>\n",
       "      <td>2019-02</td>\n",
       "      <td>No</td>\n",
       "      <td>No</td>\n",
       "      <td>786783141923</td>\n",
       "      <td>#1005</td>\n",
       "      <td>One-time</td>\n",
       "      <td>Rockville Centre</td>\n",
       "      <td>New York</td>\n",
       "      <td>United States</td>\n",
       "      <td>ldwyer.nutrition88@gmail.com</td>\n",
       "      <td>...</td>\n",
       "      <td>59.99</td>\n",
       "      <td>0.0</td>\n",
       "      <td>0.0</td>\n",
       "      <td>59.99</td>\n",
       "      <td>0</td>\n",
       "      <td>0.0</td>\n",
       "      <td>59.99</td>\n",
       "      <td>59.99</td>\n",
       "      <td>1</td>\n",
       "      <td>First-time</td>\n",
       "    </tr>\n",
       "    <tr>\n",
       "      <th>1</th>\n",
       "      <td>2019-02</td>\n",
       "      <td>No</td>\n",
       "      <td>No</td>\n",
       "      <td>779573755939</td>\n",
       "      <td>#1001</td>\n",
       "      <td>One-time</td>\n",
       "      <td>Millersville</td>\n",
       "      <td>Maryland</td>\n",
       "      <td>United States</td>\n",
       "      <td>Entropypie@deathaway.com</td>\n",
       "      <td>...</td>\n",
       "      <td>59.99</td>\n",
       "      <td>0.0</td>\n",
       "      <td>0.0</td>\n",
       "      <td>59.99</td>\n",
       "      <td>0</td>\n",
       "      <td>0.0</td>\n",
       "      <td>59.99</td>\n",
       "      <td>59.99</td>\n",
       "      <td>1</td>\n",
       "      <td>Returning</td>\n",
       "    </tr>\n",
       "    <tr>\n",
       "      <th>2</th>\n",
       "      <td>2019-02</td>\n",
       "      <td>No</td>\n",
       "      <td>No</td>\n",
       "      <td>788293943331</td>\n",
       "      <td>#1007</td>\n",
       "      <td>One-time</td>\n",
       "      <td>New Orleans</td>\n",
       "      <td>Louisiana</td>\n",
       "      <td>United States</td>\n",
       "      <td>peter.bodenheimer@food-x.com</td>\n",
       "      <td>...</td>\n",
       "      <td>34.95</td>\n",
       "      <td>0.0</td>\n",
       "      <td>0.0</td>\n",
       "      <td>34.95</td>\n",
       "      <td>0</td>\n",
       "      <td>0.0</td>\n",
       "      <td>34.95</td>\n",
       "      <td>34.95</td>\n",
       "      <td>1</td>\n",
       "      <td>Returning</td>\n",
       "    </tr>\n",
       "    <tr>\n",
       "      <th>3</th>\n",
       "      <td>2019-02</td>\n",
       "      <td>No</td>\n",
       "      <td>No</td>\n",
       "      <td>796723707939</td>\n",
       "      <td>#1014</td>\n",
       "      <td>One-time</td>\n",
       "      <td>New York</td>\n",
       "      <td>New York</td>\n",
       "      <td>United States</td>\n",
       "      <td>patrone2004@yahoo.com</td>\n",
       "      <td>...</td>\n",
       "      <td>34.95</td>\n",
       "      <td>0.0</td>\n",
       "      <td>0.0</td>\n",
       "      <td>34.95</td>\n",
       "      <td>0</td>\n",
       "      <td>0.0</td>\n",
       "      <td>34.95</td>\n",
       "      <td>34.95</td>\n",
       "      <td>1</td>\n",
       "      <td>Returning</td>\n",
       "    </tr>\n",
       "    <tr>\n",
       "      <th>4</th>\n",
       "      <td>2019-02</td>\n",
       "      <td>No</td>\n",
       "      <td>No</td>\n",
       "      <td>781975486499</td>\n",
       "      <td>#1003</td>\n",
       "      <td>One-time</td>\n",
       "      <td>Corcoran</td>\n",
       "      <td>Minnesota</td>\n",
       "      <td>United States</td>\n",
       "      <td>mlholt3@hotmail.com</td>\n",
       "      <td>...</td>\n",
       "      <td>119.98</td>\n",
       "      <td>0.0</td>\n",
       "      <td>0.0</td>\n",
       "      <td>119.98</td>\n",
       "      <td>0</td>\n",
       "      <td>0.0</td>\n",
       "      <td>119.98</td>\n",
       "      <td>119.98</td>\n",
       "      <td>2</td>\n",
       "      <td>First-time</td>\n",
       "    </tr>\n",
       "  </tbody>\n",
       "</table>\n",
       "<p>5 rows × 42 columns</p>\n",
       "</div>"
      ],
      "text/plain": [
       "     month adjustment cancelled      order_id order_name purchase_option  \\\n",
       "0  2019-02         No        No  786783141923      #1005        One-time   \n",
       "1  2019-02         No        No  779573755939      #1001        One-time   \n",
       "2  2019-02         No        No  788293943331      #1007        One-time   \n",
       "3  2019-02         No        No  796723707939      #1014        One-time   \n",
       "4  2019-02         No        No  781975486499      #1003        One-time   \n",
       "\n",
       "       billing_city billing_region billing_country  \\\n",
       "0  Rockville Centre       New York   United States   \n",
       "1      Millersville       Maryland   United States   \n",
       "2       New Orleans      Louisiana   United States   \n",
       "3          New York       New York   United States   \n",
       "4          Corcoran      Minnesota   United States   \n",
       "\n",
       "                 customer_email  ...  gross_sales discounts returns net_sales  \\\n",
       "0  ldwyer.nutrition88@gmail.com  ...        59.99       0.0     0.0     59.99   \n",
       "1      Entropypie@deathaway.com  ...        59.99       0.0     0.0     59.99   \n",
       "2  peter.bodenheimer@food-x.com  ...        34.95       0.0     0.0     34.95   \n",
       "3         patrone2004@yahoo.com  ...        34.95       0.0     0.0     34.95   \n",
       "4           mlholt3@hotmail.com  ...       119.98       0.0     0.0    119.98   \n",
       "\n",
       "   shipping taxes  total_sales average_order_value net_quantity  \\\n",
       "0         0   0.0        59.99               59.99            1   \n",
       "1         0   0.0        59.99               59.99            1   \n",
       "2         0   0.0        34.95               34.95            1   \n",
       "3         0   0.0        34.95               34.95            1   \n",
       "4         0   0.0       119.98              119.98            2   \n",
       "\n",
       "  Customer_level_type  \n",
       "0          First-time  \n",
       "1           Returning  \n",
       "2           Returning  \n",
       "3           Returning  \n",
       "4          First-time  \n",
       "\n",
       "[5 rows x 42 columns]"
      ]
     },
     "execution_count": 5,
     "metadata": {},
     "output_type": "execute_result"
    }
   ],
   "source": [
    "df.head()"
   ]
  },
  {
   "cell_type": "code",
   "execution_count": 6,
   "id": "1e4b4a82",
   "metadata": {},
   "outputs": [],
   "source": [
    "One_Time=df[df['purchase_option']=='One-time']"
   ]
  },
  {
   "cell_type": "code",
   "execution_count": 7,
   "id": "f5ce4d5e",
   "metadata": {},
   "outputs": [],
   "source": [
    "Subscription=df[df['purchase_option']=='Subscription']"
   ]
  },
  {
   "cell_type": "code",
   "execution_count": 8,
   "id": "f75a59b2",
   "metadata": {},
   "outputs": [
    {
     "data": {
      "text/plain": [
       "Ttest_indResult(statistic=-9.940654346395954, pvalue=3.1822710237293554e-23)"
      ]
     },
     "execution_count": 8,
     "metadata": {},
     "output_type": "execute_result"
    }
   ],
   "source": [
    "ttest_ind(One_Time['net_sales'], Subscription['net_sales'])"
   ]
  },
  {
   "cell_type": "code",
   "execution_count": 9,
   "id": "5ddf07e9",
   "metadata": {},
   "outputs": [],
   "source": [
    "#Chi-test"
   ]
  },
  {
   "cell_type": "code",
   "execution_count": 10,
   "id": "e97b2559",
   "metadata": {},
   "outputs": [],
   "source": [
    "from scipy.stats import chi2_contingency"
   ]
  },
  {
   "cell_type": "code",
   "execution_count": 11,
   "id": "dda7df41",
   "metadata": {},
   "outputs": [],
   "source": [
    "contigency= pd.crosstab(df['purchase_option'], df['Customer_level_type']) "
   ]
  },
  {
   "cell_type": "code",
   "execution_count": 12,
   "id": "5bb103ab",
   "metadata": {},
   "outputs": [
    {
     "data": {
      "text/html": [
       "<div>\n",
       "<style scoped>\n",
       "    .dataframe tbody tr th:only-of-type {\n",
       "        vertical-align: middle;\n",
       "    }\n",
       "\n",
       "    .dataframe tbody tr th {\n",
       "        vertical-align: top;\n",
       "    }\n",
       "\n",
       "    .dataframe thead th {\n",
       "        text-align: right;\n",
       "    }\n",
       "</style>\n",
       "<table border=\"1\" class=\"dataframe\">\n",
       "  <thead>\n",
       "    <tr style=\"text-align: right;\">\n",
       "      <th>Customer_level_type</th>\n",
       "      <th>First-time</th>\n",
       "      <th>Returning</th>\n",
       "    </tr>\n",
       "    <tr>\n",
       "      <th>purchase_option</th>\n",
       "      <th></th>\n",
       "      <th></th>\n",
       "    </tr>\n",
       "  </thead>\n",
       "  <tbody>\n",
       "    <tr>\n",
       "      <th>One-time</th>\n",
       "      <td>11393</td>\n",
       "      <td>6452</td>\n",
       "    </tr>\n",
       "    <tr>\n",
       "      <th>Subscription</th>\n",
       "      <td>0</td>\n",
       "      <td>41</td>\n",
       "    </tr>\n",
       "  </tbody>\n",
       "</table>\n",
       "</div>"
      ],
      "text/plain": [
       "Customer_level_type  First-time  Returning\n",
       "purchase_option                           \n",
       "One-time                  11393       6452\n",
       "Subscription                  0         41"
      ]
     },
     "execution_count": 12,
     "metadata": {},
     "output_type": "execute_result"
    }
   ],
   "source": [
    "contigency"
   ]
  },
  {
   "cell_type": "code",
   "execution_count": 13,
   "id": "9b163c82",
   "metadata": {},
   "outputs": [
    {
     "data": {
      "text/html": [
       "<div>\n",
       "<style scoped>\n",
       "    .dataframe tbody tr th:only-of-type {\n",
       "        vertical-align: middle;\n",
       "    }\n",
       "\n",
       "    .dataframe tbody tr th {\n",
       "        vertical-align: top;\n",
       "    }\n",
       "\n",
       "    .dataframe thead th {\n",
       "        text-align: right;\n",
       "    }\n",
       "</style>\n",
       "<table border=\"1\" class=\"dataframe\">\n",
       "  <thead>\n",
       "    <tr style=\"text-align: right;\">\n",
       "      <th>Customer_level_type</th>\n",
       "      <th>First-time</th>\n",
       "      <th>Returning</th>\n",
       "    </tr>\n",
       "    <tr>\n",
       "      <th>purchase_option</th>\n",
       "      <th></th>\n",
       "      <th></th>\n",
       "    </tr>\n",
       "  </thead>\n",
       "  <tbody>\n",
       "    <tr>\n",
       "      <th>One-time</th>\n",
       "      <td>0.638442</td>\n",
       "      <td>0.361558</td>\n",
       "    </tr>\n",
       "    <tr>\n",
       "      <th>Subscription</th>\n",
       "      <td>0.000000</td>\n",
       "      <td>1.000000</td>\n",
       "    </tr>\n",
       "  </tbody>\n",
       "</table>\n",
       "</div>"
      ],
      "text/plain": [
       "Customer_level_type  First-time  Returning\n",
       "purchase_option                           \n",
       "One-time               0.638442   0.361558\n",
       "Subscription           0.000000   1.000000"
      ]
     },
     "execution_count": 13,
     "metadata": {},
     "output_type": "execute_result"
    }
   ],
   "source": [
    "contigency_pct = pd.crosstab(df['purchase_option'], df['Customer_level_type'], normalize='index')\n",
    "contigency_pct"
   ]
  },
  {
   "cell_type": "code",
   "execution_count": 14,
   "id": "b87c7409",
   "metadata": {},
   "outputs": [
    {
     "name": "stdout",
     "output_type": "stream",
     "text": [
      "8.154859641748538e-17\n"
     ]
    }
   ],
   "source": [
    "c, p, dof, expected = chi2_contingency(contigency) \n",
    "# Print the p-value\n",
    "print(p)"
   ]
  },
  {
   "cell_type": "code",
   "execution_count": 15,
   "id": "e4ef9290",
   "metadata": {},
   "outputs": [
    {
     "name": "stdout",
     "output_type": "stream",
     "text": [
      "69.37174441418705\n"
     ]
    }
   ],
   "source": [
    "print(c)"
   ]
  }
 ],
 "metadata": {
  "kernelspec": {
   "display_name": "Python 3",
   "language": "python",
   "name": "python3"
  },
  "language_info": {
   "codemirror_mode": {
    "name": "ipython",
    "version": 3
   },
   "file_extension": ".py",
   "mimetype": "text/x-python",
   "name": "python",
   "nbconvert_exporter": "python",
   "pygments_lexer": "ipython3",
   "version": "3.8.8"
  }
 },
 "nbformat": 4,
 "nbformat_minor": 5
}
